{
 "cells": [
  {
   "cell_type": "code",
   "execution_count": 6,
   "metadata": {},
   "outputs": [],
   "source": [
    "import pandas as pd\n",
    "\n",
    "a = pd.read_csv(\"/Users/alexandergoldstein/Desktop/joy3.csv\")\n",
    "b = pd.read_csv(\"/Users/alexandergoldstein/Desktop/joy4.csv\")"
   ]
  },
  {
   "cell_type": "code",
   "execution_count": 7,
   "metadata": {},
   "outputs": [
    {
     "name": "stdout",
     "output_type": "stream",
     "text": [
      "154\n",
      "1883\n"
     ]
    }
   ],
   "source": [
    "c = pd.DataFrame(a)\n",
    "d = pd.DataFrame(b)\n",
    "\n",
    "print(len(c))\n",
    "print(len(d))"
   ]
  },
  {
   "cell_type": "code",
   "execution_count": 9,
   "metadata": {},
   "outputs": [
    {
     "name": "stdout",
     "output_type": "stream",
     "text": [
      "2037\n",
      "      Unnamed: 0                 date      timestamp     price  \\\n",
      "0              1  2021-04-23 16:00:00  1619193724430  0.234922   \n",
      "1              2  2021-04-23 17:00:00  1619197367841  0.234924   \n",
      "2              3  2021-04-23 18:00:00  1619201096169  0.234767   \n",
      "3              4  2021-04-23 19:00:00  1619204652909  0.233637   \n",
      "4              5  2021-04-23 20:00:00  1619208164134  0.236613   \n",
      "...          ...                  ...            ...       ...   \n",
      "1878        2110  2021-04-23 11:00:00  1619175815683  0.242937   \n",
      "1879        2111  2021-04-23 12:00:00  1619179585625  0.242920   \n",
      "1880        2112  2021-04-23 13:00:00  1619183258075  0.225021   \n",
      "1881        2113  2021-04-23 14:00:00  1619186630900  0.221084   \n",
      "1882        2114  2021-04-23 15:00:00  1619190293945  0.231577   \n",
      "\n",
      "      negative_score  neutral_score  polarity_score  positive_score  \\\n",
      "0           0.097115       0.759270        0.132424        0.143627   \n",
      "1           0.060395       0.777588        0.207923        0.162016   \n",
      "2           0.048865       0.813896        0.172264        0.137239   \n",
      "3           0.085391       0.772643        0.162419        0.141978   \n",
      "4           0.063727       0.780040        0.165547        0.156216   \n",
      "...              ...            ...             ...             ...   \n",
      "1878        0.049547       0.794528        0.174419        0.155936   \n",
      "1879        0.050083       0.818008        0.159518        0.131917   \n",
      "1880        0.055358       0.811477        0.149407        0.133161   \n",
      "1881        0.057276       0.805559        0.151137        0.137154   \n",
      "1882        0.083021       0.774416        0.157923        0.142553   \n",
      "\n",
      "      Price_Change  \n",
      "0         0.000000  \n",
      "1         0.000726  \n",
      "2        -0.066693  \n",
      "3        -0.481585  \n",
      "4         1.274095  \n",
      "...            ...  \n",
      "1878      2.262596  \n",
      "1879     -0.007070  \n",
      "1880     -7.368193  \n",
      "1881     -1.749505  \n",
      "1882      4.745890  \n",
      "\n",
      "[2037 rows x 9 columns]\n"
     ]
    }
   ],
   "source": [
    "e = [c, d]\n",
    "\n",
    "f = c.append(d)\n",
    "print(len(f))\n",
    "print(f)"
   ]
  },
  {
   "cell_type": "code",
   "execution_count": 10,
   "metadata": {},
   "outputs": [],
   "source": [
    "f.to_csv('joy5.csv')"
   ]
  },
  {
   "cell_type": "code",
   "execution_count": null,
   "metadata": {},
   "outputs": [],
   "source": []
  }
 ],
 "metadata": {
  "kernelspec": {
   "display_name": "Python 3",
   "language": "python",
   "name": "python3"
  },
  "language_info": {
   "codemirror_mode": {
    "name": "ipython",
    "version": 3
   },
   "file_extension": ".py",
   "mimetype": "text/x-python",
   "name": "python",
   "nbconvert_exporter": "python",
   "pygments_lexer": "ipython3",
   "version": "3.8.3"
  }
 },
 "nbformat": 4,
 "nbformat_minor": 4
}
